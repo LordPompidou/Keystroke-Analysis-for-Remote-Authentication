{
 "cells": [
  {
   "cell_type": "markdown",
   "metadata": {},
   "source": [
    "# Reimplementation of the best performing algorithm from Killourhy and Maxion's research paper for static authentication \n",
    "\n",
    "Comparing Anomaly-Detection Algorithms for Keystroke Dynamics"
   ]
  },
  {
   "cell_type": "code",
   "execution_count": 80,
   "metadata": {},
   "outputs": [],
   "source": [
    "import pandas as pd\n",
    "import numpy as np\n",
    "import sklearn as sc\n",
    "import matplotlib.pyplot as plt\n",
    "import scipy.stats\n",
    "from sklearn import metrics\n",
    "from sklearn.covariance import EmpiricalCovariance, MinCovDet\n",
    "from sklearn.model_selection import train_test_split\n",
    "from sklearn.neighbors import DistanceMetric\n",
    "from sklearn.neighbors import NearestNeighbors\n",
    "from sklearn.neighbors import KNeighborsClassifier\n",
    "from matplotlib.pyplot import figure\n",
    "from sklearn.metrics import roc_curve, auc, roc_auc_score\n",
    "from scipy.optimize import brentq\n",
    "from scipy.interpolate import interp1d\n",
    "from sklearn.metrics import confusion_matrix"
   ]
  },
  {
   "cell_type": "markdown",
   "metadata": {},
   "source": [
    "# Load Data"
   ]
  },
  {
   "cell_type": "code",
   "execution_count": 81,
   "outputs": [],
   "source": [
    "def load_dataset(name):\n",
    "    data = pd.read_csv(name)\n",
    "\n",
    "    if len(data.columns) > 12:\n",
    "        # Original dataset\n",
    "        data = data[data.columns.drop(list(data.filter(regex='H')))]\n",
    "        data = data[data.columns.drop(list(data.filter(regex='UD')))]\n",
    "\n",
    "        data_columns = data[data.columns.drop(['sessionIndex', 'rep', 'subject'])].columns\n",
    "        data = data[data.columns.drop(['sessionIndex', 'rep'])]\n",
    "        data[\"subject\"] = data[\"subject\"].apply(lambda x: int(x[1:]))\n",
    "\n",
    "    else:\n",
    "        # Network dataset\n",
    "        data = data[data.columns.drop(['Unnamed: 0'])]\n",
    "\n",
    "    return data\n",
    "\n",
    "\n",
    "# Original dataset\n",
    "# data = load_dataset(\"datasets/killourhy_maxion_password.csv\")\n",
    "\n",
    "# Network dataset\n",
    "data = load_dataset(\"network_gns3/data_over_network_0_latency_0_jitter.csv\")"
   ],
   "metadata": {
    "collapsed": false,
    "pycharm": {
     "name": "#%%\n"
    }
   }
  },
  {
   "cell_type": "code",
   "execution_count": 82,
   "metadata": {},
   "outputs": [],
   "source": [
    "## Original data\n",
    "#\n",
    "# data = pd.read_csv(\"../datasets/Fixed/killourhy_maxion_password.csv\")\n",
    "# data[\"subject\"] = data[\"subject\"].apply(lambda x: int(x[1:]))\n",
    "subjects = data.subject.unique().tolist()\n",
    "\n",
    "\n",
    "# data = data[data.columns.drop(list(data.filter(regex='H')))]\n",
    "# data = data[data.columns.drop(list(data.filter(regex='UD')))]\n",
    "# data = data[data.columns.drop(['sessionIndex', 'rep'])]\n",
    "# data.head()"
   ]
  },
  {
   "cell_type": "code",
   "execution_count": 83,
   "outputs": [],
   "source": [
    "## Network data\n",
    "\n",
    "# data = pd.read_csv(\"data_over_network.csv\")"
   ],
   "metadata": {
    "collapsed": false,
    "pycharm": {
     "name": "#%%\n"
    }
   }
  },
  {
   "cell_type": "code",
   "execution_count": 84,
   "outputs": [],
   "source": [
    "s_id = 2\n",
    "\n",
    "# create dataset of this user\n",
    "s = data[data[\"subject\"] == s_id]\n",
    "X = s[s.columns.drop(['subject'])]\n",
    "\n",
    "# divide between train and test\n",
    "X_train = X.head(200)\n",
    "X_test = X.tail(200)\n"
   ],
   "metadata": {
    "collapsed": false,
    "pycharm": {
     "name": "#%%\n"
    }
   }
  },
  {
   "cell_type": "markdown",
   "metadata": {
    "pycharm": {
     "name": "#%% md\n"
    }
   },
   "source": [
    "# NN Mahalanobis"
   ]
  },
  {
   "cell_type": "code",
   "execution_count": 85,
   "outputs": [],
   "source": [
    "from sklearn.covariance import MinCovDet\n",
    "\n",
    "# robust_cov = MinCovDet().fit(X)\n",
    "# print(robust_cov.covariance_)\n",
    "# V = robust_cov.covariance_"
   ],
   "metadata": {
    "collapsed": false,
    "pycharm": {
     "name": "#%%\n"
    }
   }
  },
  {
   "cell_type": "code",
   "execution_count": 86,
   "outputs": [],
   "source": [
    "from sklearn.covariance import EmpiricalCovariance\n",
    "\n",
    "# emp_cov = EmpiricalCovariance().fit(X_train)\n",
    "# print(emp_cov.covariance_)\n",
    "# V = emp_cov.covariance_"
   ],
   "metadata": {
    "collapsed": false,
    "pycharm": {
     "name": "#%%\n"
    }
   }
  },
  {
   "cell_type": "code",
   "execution_count": 87,
   "outputs": [],
   "source": [
    "# # calculate covariance matrix\n",
    "# V = np.cov(X_train, rowvar=False)\n",
    "# print(V)"
   ],
   "metadata": {
    "collapsed": false,
    "pycharm": {
     "name": "#%%\n"
    }
   }
  },
  {
   "cell_type": "code",
   "execution_count": 88,
   "outputs": [],
   "source": [
    "# # By hand covariance\n",
    "#\n",
    "# N = X_train.shape[1]\n",
    "# X = X_train.to_numpy()\n",
    "# X -= X.mean(axis=0)\n",
    "# fact = N - 1\n",
    "# by_hand = np.dot(X.T, X.conj()) / fact\n",
    "#\n",
    "# print(by_hand)\n",
    "# V = by_hand"
   ],
   "metadata": {
    "collapsed": false,
    "pycharm": {
     "name": "#%%\n"
    }
   }
  },
  {
   "cell_type": "code",
   "execution_count": 89,
   "outputs": [
    {
     "name": "stdout",
     "output_type": "stream",
     "text": [
      "                 DD.period.t    DD.t.i    DD.i.e  DD.e.five  DD.five.Shift.r  \\\n",
      "DD.period.t         0.007079  0.000546  0.000921   0.006856         0.003818   \n",
      "DD.t.i              0.000546  0.001213  0.000286   0.000528        -0.000598   \n",
      "DD.i.e              0.000921  0.000286  0.005502   0.004280         0.000866   \n",
      "DD.e.five           0.006856  0.000528  0.004280   0.054531         0.021041   \n",
      "DD.five.Shift.r     0.003818 -0.000598  0.000866   0.021041         0.050671   \n",
      "DD.Shift.r.o        0.002536 -0.000008  0.000838   0.014649         0.015032   \n",
      "DD.o.a              0.000039  0.000106 -0.000029   0.001961         0.001755   \n",
      "DD.a.n              0.001101  0.000165  0.000081   0.005821         0.002813   \n",
      "DD.n.l              0.000102 -0.000066  0.000033   0.002865         0.003547   \n",
      "DD.l.Return         0.001252 -0.000066  0.000518   0.009462         0.005991   \n",
      "\n",
      "                 DD.Shift.r.o    DD.o.a    DD.a.n    DD.n.l  DD.l.Return  \n",
      "DD.period.t          0.002536  0.000039  0.001101  0.000102     0.001252  \n",
      "DD.t.i              -0.000008  0.000106  0.000165 -0.000066    -0.000066  \n",
      "DD.i.e               0.000838 -0.000029  0.000081  0.000033     0.000518  \n",
      "DD.e.five            0.014649  0.001961  0.005821  0.002865     0.009462  \n",
      "DD.five.Shift.r      0.015032  0.001755  0.002813  0.003547     0.005991  \n",
      "DD.Shift.r.o         0.016476  0.002122  0.002565  0.001848     0.003446  \n",
      "DD.o.a               0.002122  0.002824  0.000950  0.001191     0.000621  \n",
      "DD.a.n               0.002565  0.000950  0.003243  0.001665     0.000513  \n",
      "DD.n.l               0.001848  0.001191  0.001665  0.005422     0.001410  \n",
      "DD.l.Return          0.003446  0.000621  0.000513  0.001410     0.012880  \n"
     ]
    }
   ],
   "source": [
    "V = pd.DataFrame.cov(X_train)\n",
    "print(V)"
   ],
   "metadata": {
    "collapsed": false,
    "pycharm": {
     "name": "#%%\n"
    }
   }
  },
  {
   "cell_type": "code",
   "execution_count": 90,
   "outputs": [],
   "source": [
    "# training phase of detector\n",
    "# nn = NearestNeighbors(n_neighbors=1, metric='mahalanobis', metric_params={'V' : V})\n",
    "# nn = NearestNeighbors(n_neighbors=1, metric='mahalanobis', metric_params={'V' : V}, algorithm='brute')\n",
    "# nn = NearestNeighbors(n_neighbors=1, metric='mahalanobis', metric_params={'VI' : np.linalg.inv(V)}, algorithm='brute')\n",
    "nn = NearestNeighbors(n_neighbors=1, metric='mahalanobis', metric_params={'V' : V, 'VI' : np.linalg.inv(V)}, algorithm='brute')\n",
    "nn.fit(X_train)\n",
    "\n",
    "# test phase of detector of user\n",
    "anomaly_user_score, indices = nn.kneighbors(X_test)"
   ],
   "metadata": {
    "collapsed": false,
    "pycharm": {
     "name": "#%%\n"
    }
   }
  },
  {
   "cell_type": "code",
   "execution_count": 91,
   "outputs": [
    {
     "name": "stdout",
     "output_type": "stream",
     "text": [
      "[[0.83979184]\n",
      " [0.63904676]\n",
      " [2.01495521]\n",
      " [1.0006913 ]\n",
      " [0.98427869]\n",
      " [0.99153883]\n",
      " [0.7180197 ]\n",
      " [1.13198164]\n",
      " [0.82195393]\n",
      " [2.0060822 ]\n",
      " [0.82843092]\n",
      " [2.02678586]\n",
      " [2.52849684]\n",
      " [1.48581353]\n",
      " [1.31584316]\n",
      " [1.01955145]\n",
      " [1.26442182]\n",
      " [1.16431661]\n",
      " [0.9399775 ]\n",
      " [3.76087697]\n",
      " [1.13722239]\n",
      " [1.6741814 ]\n",
      " [0.93565478]\n",
      " [2.05022973]\n",
      " [2.68363213]\n",
      " [4.19499543]\n",
      " [0.77347151]\n",
      " [1.99716642]\n",
      " [0.94523133]\n",
      " [2.69272075]\n",
      " [1.00854053]\n",
      " [1.20765674]\n",
      " [1.55537921]\n",
      " [1.14364446]\n",
      " [0.919684  ]\n",
      " [0.71424808]\n",
      " [0.91123316]\n",
      " [0.87937798]\n",
      " [0.59618169]\n",
      " [0.57240116]\n",
      " [0.56749826]\n",
      " [1.16887463]\n",
      " [1.26264391]\n",
      " [1.38002135]\n",
      " [1.57277297]\n",
      " [6.07534316]\n",
      " [1.24896414]\n",
      " [1.79330358]\n",
      " [1.06301223]\n",
      " [0.92040633]\n",
      " [1.11601283]\n",
      " [0.90795735]\n",
      " [0.93946314]\n",
      " [1.36480185]\n",
      " [1.41352187]\n",
      " [1.53482686]\n",
      " [1.15516661]\n",
      " [1.02557005]\n",
      " [1.04286584]\n",
      " [0.6651518 ]\n",
      " [1.53429872]\n",
      " [1.35520328]\n",
      " [1.22728026]\n",
      " [1.11683225]\n",
      " [1.6471613 ]\n",
      " [1.22419058]\n",
      " [1.34098613]\n",
      " [2.26691056]\n",
      " [0.37433655]\n",
      " [1.2477472 ]\n",
      " [1.13114277]\n",
      " [1.32898654]\n",
      " [1.11748929]\n",
      " [2.6720588 ]\n",
      " [0.99124243]\n",
      " [1.35634028]\n",
      " [1.19480283]\n",
      " [1.19635198]\n",
      " [0.81864119]\n",
      " [1.22306625]\n",
      " [2.88949251]\n",
      " [0.88866959]\n",
      " [3.76324318]\n",
      " [0.83552834]\n",
      " [1.17942856]\n",
      " [0.86995494]\n",
      " [1.03961918]\n",
      " [1.06554499]\n",
      " [1.0791191 ]\n",
      " [0.8595909 ]\n",
      " [0.97328461]\n",
      " [1.02104321]\n",
      " [0.83742535]\n",
      " [0.92178151]\n",
      " [1.09163811]\n",
      " [0.79163844]\n",
      " [0.62376585]\n",
      " [1.00155722]\n",
      " [0.88903968]\n",
      " [1.58634571]\n",
      " [1.65026639]\n",
      " [1.44386673]\n",
      " [1.12973894]\n",
      " [0.73618471]\n",
      " [0.75745734]\n",
      " [0.94350122]\n",
      " [1.26822303]\n",
      " [3.71725283]\n",
      " [1.07403459]\n",
      " [1.38736533]\n",
      " [1.84301115]\n",
      " [0.74077374]\n",
      " [0.88216224]\n",
      " [1.15189121]\n",
      " [0.73195891]\n",
      " [0.79182696]\n",
      " [2.51342643]\n",
      " [1.79164934]\n",
      " [0.81515889]\n",
      " [1.09438389]\n",
      " [1.05882336]\n",
      " [0.97870319]\n",
      " [2.82949961]\n",
      " [0.92273487]\n",
      " [1.06231691]\n",
      " [0.87063951]\n",
      " [0.84015414]\n",
      " [1.21959531]\n",
      " [0.9305993 ]\n",
      " [2.23911622]\n",
      " [1.69013544]\n",
      " [0.65613091]\n",
      " [0.98533027]\n",
      " [0.72308716]\n",
      " [0.8949972 ]\n",
      " [0.86255046]\n",
      " [3.38451148]\n",
      " [0.6147113 ]\n",
      " [1.1642637 ]\n",
      " [0.75552554]\n",
      " [3.12228066]\n",
      " [8.99848771]\n",
      " [0.80975441]\n",
      " [0.91363317]\n",
      " [0.76782567]\n",
      " [0.89805097]\n",
      " [1.03944797]\n",
      " [0.87476144]\n",
      " [0.77371308]\n",
      " [0.82916002]\n",
      " [2.90561827]\n",
      " [2.04440099]\n",
      " [2.54981894]\n",
      " [1.7440428 ]\n",
      " [1.54682077]\n",
      " [2.84399256]\n",
      " [0.96990265]\n",
      " [2.29915355]\n",
      " [2.05912225]\n",
      " [1.24108025]\n",
      " [2.17385663]\n",
      " [1.44329758]\n",
      " [1.35514528]\n",
      " [3.04554975]\n",
      " [2.02774154]\n",
      " [2.0059817 ]\n",
      " [2.73988108]\n",
      " [2.37004778]\n",
      " [1.16308513]\n",
      " [1.96520001]\n",
      " [1.40810899]\n",
      " [1.55662348]\n",
      " [2.41823383]\n",
      " [2.55466061]\n",
      " [1.99981298]\n",
      " [1.07651201]\n",
      " [1.17631051]\n",
      " [1.31291462]\n",
      " [1.59032323]\n",
      " [1.05041128]\n",
      " [1.06551551]\n",
      " [2.45194418]\n",
      " [1.35475536]\n",
      " [1.57498802]\n",
      " [1.3414533 ]\n",
      " [2.10609188]\n",
      " [3.75422412]\n",
      " [1.89149637]\n",
      " [2.34860222]\n",
      " [1.01035135]\n",
      " [1.72607673]\n",
      " [1.45639564]\n",
      " [4.62678413]\n",
      " [2.02822849]\n",
      " [1.78270546]\n",
      " [1.38506433]\n",
      " [1.1547376 ]\n",
      " [3.51373019]\n",
      " [1.79489896]\n",
      " [3.53763019]]\n"
     ]
    }
   ],
   "source": [
    "print(anomaly_user_score)"
   ],
   "metadata": {
    "collapsed": false,
    "pycharm": {
     "name": "#%%\n"
    }
   }
  },
  {
   "cell_type": "markdown",
   "metadata": {
    "pycharm": {
     "name": "#%% md\n"
    }
   },
   "source": [
    "Multiple impostors"
   ]
  },
  {
   "cell_type": "code",
   "execution_count": 92,
   "metadata": {
    "pycharm": {
     "name": "#%%\n"
    }
   },
   "outputs": [
    {
     "name": "stdout",
     "output_type": "stream",
     "text": [
      "[3, 4, 5, 7, 8, 10, 11, 12, 13, 15, 16, 17, 18, 19, 20, 21, 22, 24, 25, 26, 27, 28, 29, 30, 31, 32, 33, 34, 35, 36, 37, 38, 39, 40, 41, 42, 43, 44, 46, 47, 48, 49, 50, 51, 52, 53, 54, 55, 56, 57]\n"
     ]
    }
   ],
   "source": [
    "# test phase of detector of impostor\n",
    "i = 0\n",
    "\n",
    "subjects_to_iterate = subjects\n",
    "subjects_to_iterate.remove(s_id)\n",
    "print(subjects_to_iterate)"
   ]
  },
  {
   "cell_type": "code",
   "execution_count": 93,
   "metadata": {
    "pycharm": {
     "name": "#%%\n"
    }
   },
   "outputs": [],
   "source": [
    "anomaly_impostor_score = []\n",
    "for x in subjects_to_iterate:\n",
    "\n",
    "    # get impostor dataframe\n",
    "    si = data[data[\"subject\"] == x]\n",
    "    Xi = si[si.columns.drop(['subject'])]\n",
    "    Xi_test = Xi.head(5)\n",
    "\n",
    "    # test the first five\n",
    "\n",
    "    ## Nearest Neighbor\n",
    "    tmp_impostor_score, indices = nn.kneighbors(Xi_test)\n",
    "\n",
    "    # record the results\n",
    "    # if it is the first time, save it as base\n",
    "    if i == 0:\n",
    "        anomaly_impostor_score = tmp_impostor_score\n",
    "    # append it to existing if not the first one\n",
    "    else:\n",
    "        anomaly_impostor_score = np.append(anomaly_impostor_score, tmp_impostor_score)\n",
    "\n",
    "    i = i +1"
   ]
  },
  {
   "cell_type": "code",
   "execution_count": 94,
   "metadata": {
    "pycharm": {
     "name": "#%%\n"
    }
   },
   "outputs": [
    {
     "name": "stdout",
     "output_type": "stream",
     "text": [
      "[  2.3532842    2.29481093   2.98829834  14.46996361   4.96217679\n",
      "   2.72947283   3.47615098   3.88080066   2.5678486    1.98179769\n",
      "  21.07651427   9.52731027  16.30945786   8.73844633   7.39885186\n",
      "   5.34395787   7.15191141   5.17386473   4.64486954   3.18525568\n",
      "   3.61787154   3.33600339   2.44184823   2.97205687   1.69583419\n",
      "   1.65523882   5.61229347   4.04694295   1.44232463   0.87142826\n",
      "   2.5366701    1.20999142   1.86837307   3.14985426   2.44543781\n",
      "   3.47902036   3.19538998   2.74681533  13.5789552    5.32657777\n",
      "   5.27636784   0.89651052   3.58056441   4.84802985   2.06617583\n",
      "   3.07928929   2.26516984   2.84057108   2.80802816   2.66889593\n",
      "   7.96717799   9.29330238   4.90901786   8.42139474   4.75006944\n",
      "   1.82363736   3.37453933   1.86626118   1.32087397   3.26008617\n",
      "   6.3244612    5.13303447   7.89340451   6.46480574   3.22620232\n",
      "  13.243833     9.55248739   8.80180536  11.20928014   6.91497134\n",
      "  32.08154584   4.71400509   3.96083081   1.47739961   1.09828628\n",
      "  15.84209846  12.25773144   3.79465905   3.47137027   4.10956785\n",
      "  15.2265881   20.22419136  11.68800752  12.02400317  10.44527566\n",
      "   2.25431779   7.40220079   5.69321307   3.18534317   2.57459096\n",
      "   4.1457307    3.79121787   4.43394417   3.05032637   2.49640639\n",
      "   2.46903526   3.69820527   1.1538032    1.27414852   1.04417498\n",
      "  15.04590142  11.6006027   10.41136267  15.51980629   4.6883083\n",
      "   5.32986705   2.46409321   3.19421555   1.75363221   1.90665922\n",
      "   1.4307219    2.28695197   7.39641273   1.20642382   3.12031993\n",
      " 110.6467112    4.56584184   2.10762816  19.78441687   4.37154821\n",
      "   3.69600212   5.55779539   4.00005149   2.8218831    2.77041772\n",
      "   8.80717208   9.04695137   3.02590623   1.70824492   3.55699845\n",
      "  13.22199557   6.32251704   6.9012919    5.17539109   3.56318207\n",
      "   5.02353061   1.77689549   8.38749933   4.14570841   2.40666968\n",
      "  12.81142061   3.6127017    2.64149306   4.03599761   6.7945923\n",
      "  20.90402506  22.65289273  22.10047828  23.60681755  31.46353192\n",
      "   5.72448217   6.01329508   2.94018581   7.54551779   2.67400133\n",
      "   6.54897716   8.28240717  12.0370914    3.11297816   7.70302507\n",
      "   5.62897955   3.9737471    3.79489453   2.3601061    2.02706089\n",
      "  14.33395187   8.7018293   13.826887    10.30637066   4.78644085\n",
      "  11.86214036   4.95944685   2.15577891   3.32355952   2.4885643\n",
      "   2.57055309  12.45640351   2.71128902   3.30442785   3.44523528\n",
      "  35.15460123  39.9995753   23.8189549   20.79586481  17.22240047\n",
      "  21.71913663  13.96514309  14.04488028   5.50308596  14.1369832\n",
      "  12.73374874  14.46808376   5.11184746  15.1940445    6.39703667\n",
      "  50.6137654   11.72969374  15.57244869   5.48152694   8.23906286\n",
      "   2.75725175   2.22392054   4.47090732   1.98927904   2.83702951\n",
      "  32.22254633  18.56557073  21.14524469  10.79179564  28.35929069\n",
      "   4.63732527   3.8670108    3.72860195   3.31691355   1.77450577\n",
      "   2.85745378   1.4283231    5.47160257   1.54100894   2.17570307\n",
      "   9.77792406  23.76693495   7.84968585   9.8901194    7.11134101\n",
      "   2.8009958    2.8748936    2.49826942   2.26652421   4.11922348\n",
      "   6.74413469  10.54823081   9.08235406   3.85684406  11.68013501\n",
      "   2.90430648   1.05216098   1.17947956   3.18831029   1.39076423\n",
      "   2.56423884   7.2482157   11.1580588    7.96623176   4.38351783\n",
      "   4.58651607   3.07109062   2.22273921   1.31339862   2.80128642]\n"
     ]
    }
   ],
   "source": [
    "print(anomaly_impostor_score)"
   ]
  },
  {
   "cell_type": "markdown",
   "metadata": {
    "pycharm": {
     "name": "#%% md\n"
    }
   },
   "source": [
    "## Threshold for acceptance\n",
    "\n",
    "Assuming Gaussian distribution"
   ]
  },
  {
   "cell_type": "code",
   "execution_count": 95,
   "metadata": {
    "pycharm": {
     "name": "#%%\n"
    }
   },
   "outputs": [
    {
     "name": "stdout",
     "output_type": "stream",
     "text": [
      "0.37433655497038837\n",
      "110.64671120303832\n"
     ]
    }
   ],
   "source": [
    "user_mean = np.mean(anomaly_user_score)\n",
    "user_std = np.std(anomaly_user_score)\n",
    "user_min = np.min(anomaly_user_score)\n",
    "user_max = np.max(anomaly_user_score)\n",
    "\n",
    "impostor_mean = np.mean(anomaly_impostor_score)\n",
    "impostor_std = np.std(anomaly_impostor_score)\n",
    "impostor_min = np.min(anomaly_impostor_score)\n",
    "impostor_max = np.max(anomaly_impostor_score)\n",
    "\n",
    "if user_max >= impostor_max:\n",
    "    plot_max = user_max\n",
    "else:\n",
    "    plot_max = impostor_max\n",
    "\n",
    "if user_min <= impostor_min:\n",
    "    plot_min = user_min\n",
    "else:\n",
    "    plot_min = impostor_min\n",
    "\n",
    "print(plot_min)\n",
    "print(plot_max)"
   ]
  },
  {
   "cell_type": "code",
   "execution_count": 96,
   "metadata": {
    "pycharm": {
     "name": "#%%\n"
    }
   },
   "outputs": [
    {
     "data": {
      "text/plain": "<Figure size 720x720 with 1 Axes>",
      "image/png": "[encoded data removed]"
     },
     "metadata": {
      "needs_background": "light"
     },
     "output_type": "display_data"
    }
   ],
   "source": [
    "# Plotting\n",
    "plt.figure(figsize=(10,10))\n",
    "\n",
    "x = np.linspace(plot_min, plot_max, 100)\n",
    "\n",
    "y_user = scipy.stats.norm.pdf(x,user_mean,user_std)\n",
    "y_impostor = scipy.stats.norm.pdf(x,impostor_mean,impostor_std)\n",
    "\n",
    "plt.plot(x,y_user, color='xkcd:green')\n",
    "plt.plot(x,y_impostor, color='xkcd:coral')\n",
    "\n",
    "\n",
    "plt.grid()\n",
    "\n",
    "plt.xlim(plot_min,40)\n",
    "plt.ylim(0,0.5)\n",
    "\n",
    "plt.xlabel('x')\n",
    "plt.ylabel('Normal Distribution')\n",
    "\n",
    "# plt.savefig(\"normal_distribution_user_impostor.png\")\n",
    "plt.show()"
   ]
  },
  {
   "cell_type": "code",
   "execution_count": 97,
   "metadata": {
    "pycharm": {
     "name": "#%%\n"
    }
   },
   "outputs": [],
   "source": [
    "fpr = [1]\n",
    "tpr = [1]\n",
    "threshold = [0]\n",
    "\n",
    "# For each possible threshold\n",
    "for t in np.arange(0, int(plot_max), 1):\n",
    "    \n",
    "    y_score = []\n",
    "    y_true = []\n",
    "\n",
    "    # False alarm rate so False Positive Rate\n",
    "    # Every user mistaken as impostor\n",
    "    for e in anomaly_user_score:\n",
    "\n",
    "        # true label\n",
    "        y_true.append(0)\n",
    "\n",
    "        # print(\"score : \" + str(e))\n",
    "        # print(\"threshold : \" + str(t))\n",
    "        # score label\n",
    "        if e > t:\n",
    "            y_score.append(1)\n",
    "        else:\n",
    "            y_score.append(0)\n",
    "\n",
    "        # print(y_score)\n",
    "\n",
    "    # Hit Rate so True Positive Rate\n",
    "    # Every impostor as user\n",
    "    for e in anomaly_impostor_score:\n",
    "\n",
    "        # true label\n",
    "        y_true.append(1)\n",
    "\n",
    "        # score label\n",
    "        if e > t:\n",
    "            y_score.append(1)\n",
    "        else:\n",
    "            y_score.append(0)\n",
    "\n",
    "    tn, fp, fn, tp = confusion_matrix(y_true, y_score).ravel()\n",
    "    # print(\"True Negative : \" + str(tn))\n",
    "    # print(\"False Positive : \" + str(fp))\n",
    "    # print(\"False Negative : \" + str(fn))\n",
    "    # print(\"True Positive : \" + str(tp))\n",
    "\n",
    "    p = tp + fn\n",
    "    n = fp + tn\n",
    "\n",
    "    temp_fpr = fp / n\n",
    "    temp_tpr = tp / p\n",
    "    # print(\"False Positive Rate : \" + str(fpr))\n",
    "    # print(\"True Positive Rate : \" + str(tpr))\n",
    "\n",
    "    fpr.append(temp_fpr)\n",
    "    tpr.append(temp_tpr)\n",
    "    threshold.append(t)\n",
    "\n",
    "\n",
    "fpr.append(0)\n",
    "tpr.append(0)\n",
    "threshold.append(int(plot_max))"
   ]
  },
  {
   "cell_type": "code",
   "execution_count": 98,
   "outputs": [
    {
     "name": "stdout",
     "output_type": "stream",
     "text": [
      "112\n",
      "112\n",
      "112\n"
     ]
    }
   ],
   "source": [
    "print(len(fpr))\n",
    "print(len(tpr))\n",
    "print(len(threshold))"
   ],
   "metadata": {
    "collapsed": false,
    "pycharm": {
     "name": "#%%\n"
    }
   }
  },
  {
   "cell_type": "code",
   "execution_count": 99,
   "metadata": {
    "pycharm": {
     "name": "#%%\n"
    }
   },
   "outputs": [
    {
     "data": {
      "text/plain": "<Figure size 720x720 with 1 Axes>",
      "image/png": "[encoded data removed]"
     },
     "metadata": {
      "needs_background": "light"
     },
     "output_type": "display_data"
    }
   ],
   "source": [
    "plt.figure(figsize=(10,10))\n",
    "plt.plot(fpr, tpr, color='xkcd:green',)\n",
    "plt.xlabel('False Positive Rate / False Alarm Rate')\n",
    "plt.ylabel('True Positive Rate / Hit Rate ')\n",
    "plt.title('ROC cruve')\n",
    "# plt.savefig('user_original.png')\n",
    "plt.savefig('user_network.png')\n",
    "plt.show()"
   ]
  },
  {
   "cell_type": "code",
   "execution_count": 100,
   "outputs": [
    {
     "name": "stdout",
     "output_type": "stream",
     "text": [
      "0.17284023668639054\n"
     ]
    }
   ],
   "source": [
    "# Calculate EER\n",
    "\n",
    "# TODO: is this correct manner ?\n",
    "eer = brentq(lambda x : 1. - x - interp1d(fpr, tpr)(x), 0., 1.)\n",
    "thresh = interp1d(fpr, threshold)(eer)\n",
    "\n",
    "print(eer)\n",
    "# print(thresh)"
   ],
   "metadata": {
    "collapsed": false,
    "pycharm": {
     "name": "#%%\n"
    }
   }
  },
  {
   "cell_type": "code",
   "execution_count": 101,
   "outputs": [
    {
     "name": "stdout",
     "output_type": "stream",
     "text": [
      "1.0\n"
     ]
    }
   ],
   "source": [
    "# Calculate the zero-miss false-alarm rate\n",
    "\n",
    "# This is when the Hit Rate is equal 1 / Miss Rate is 0\n",
    "\n",
    "for index, val in enumerate(tpr):\n",
    "    # print(val)\n",
    "    if val == 1:\n",
    "        zero_miss_false_alarm = fpr[index]\n",
    "\n",
    "print(zero_miss_false_alarm)"
   ],
   "metadata": {
    "collapsed": false,
    "pycharm": {
     "name": "#%%\n"
    }
   }
  },
  {
   "cell_type": "code",
   "execution_count": 101,
   "outputs": [],
   "source": [],
   "metadata": {
    "collapsed": false,
    "pycharm": {
     "name": "#%%"
    }
   }
  }
 ],
 "metadata": {
  "kernelspec": {
   "name": "pycharm-e475a2a0",
   "language": "python",
   "display_name": "PyCharm (2020-mcm-master)"
  },
  "language_info": {
   "codemirror_mode": {
    "name": "ipython",
    "version": 3
   },
   "file_extension": ".py",
   "mimetype": "text/x-python",
   "name": "python",
   "nbconvert_exporter": "python",
   "pygments_lexer": "ipython3",
   "version": "3.8.2"
  }
 },
 "nbformat": 4,
 "nbformat_minor": 2
}